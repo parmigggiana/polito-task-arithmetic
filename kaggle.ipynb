{
 "cells": [
  {
   "cell_type": "markdown",
   "metadata": {},
   "source": [
    "# Polito Task Arithmetic\n",
    "This notebook is made to work in kaggle. Rembember to set files and variables permanence, the first block only needs to be run once.\n",
    "If running this on Google Colab, it might need some changes to make sure the output is preserved using your google drive."
   ]
  },
  {
   "cell_type": "code",
   "execution_count": null,
   "metadata": {},
   "outputs": [],
   "source": [
    "%git clone https://github.com/parmigggiana/polito-task-arithmetic.git\n",
    "%cd polito-task-arithmetic\n",
    "%mkdir out\n",
    "%pip install gdown open-clip-torch torch torchvision tqdm scipy pillow numpy"
   ]
  },
  {
   "cell_type": "code",
   "execution_count": null,
   "metadata": {},
   "outputs": [],
   "source": [
    "import os\n",
    "import gdown\n",
    "import zipfile\n",
    "\n",
    "url = 'https://drive.google.com/drive/folders/1BiK9sYyTslcxQQoS3vZGF02hRg6OQpR4?usp=sharing'\n",
    "folder_id = url.split('/')[-1].split('?')[0]\n",
    "gdown.download_folder(f'https://drive.google.com/drive/folders/{folder_id}', quiet=False)\n",
    "\n",
    "\n",
    "source_dir = 'Task Arithmetic Datasets'\n",
    "target_dir = 'data'\n",
    "\n",
    "if not os.path.exists(target_dir):\n",
    "    os.makedirs(target_dir)\n",
    "\n",
    "for file_name in os.listdir(source_dir):\n",
    "    file_path = os.path.join(source_dir, file_name)\n",
    "    target_path = target_dir\n",
    "\n",
    "    with zipfile.ZipFile(file_path, 'r') as zip_ref:\n",
    "        zip_ref.extractall(target_path)\n",
    "        print(f'Unzipped {file_name} to {target_path}')"
   ]
  },
  {
   "cell_type": "code",
   "execution_count": null,
   "metadata": {},
   "outputs": [],
   "source": [
    "from finetune import finetune\n",
    "# from eval_single_task import eval_single_task\n",
    "# from eval_task_addition import eval_task_addition"
   ]
  },
  {
   "cell_type": "code",
   "execution_count": null,
   "metadata": {},
   "outputs": [],
   "source": [
    "finetune(\n",
    "    './data/',\n",
    "    './out/',\n",
    "    32,\n",
    "    1e-4,\n",
    "    0.0,\n",
    "    datasets=[\"DTD\", \"EuroSAT\", \"GTSRB\", \"MNIST\", \"RESISC45\", \"SVHN\"]\n",
    "  )"
   ]
  }
 ],
 "metadata": {
  "kernelspec": {
   "display_name": ".venv",
   "language": "python",
   "name": "python3"
  },
  "language_info": {
   "name": "python",
   "version": "3.11.10"
  }
 },
 "nbformat": 4,
 "nbformat_minor": 2
}
