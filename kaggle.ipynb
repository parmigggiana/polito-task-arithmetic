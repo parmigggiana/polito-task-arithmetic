{
 "cells": [
  {
   "cell_type": "code",
   "execution_count": null,
   "metadata": {
    "_cell_guid": "37504ede-1598-4fbf-bda7-01649ca5cab7",
    "_uuid": "568fac8f-02a6-4ea9-a761-a1475859a5ec",
    "trusted": true
   },
   "outputs": [],
   "source": [
    "# Run once\n",
    "!git clone -b 327797 https://github.com/parmigggiana/polito-task-arithmetic.git\n",
    "%cd polito-task-arithmetic\n",
    "%mkdir out\n",
    "%pip install gdown open-clip-torch torch torchvision tqdm scipy pillow numpy"
   ]
  },
  {
   "cell_type": "code",
   "execution_count": null,
   "metadata": {
    "trusted": true
   },
   "outputs": [],
   "source": [
    "# Run once\n",
    "import os\n",
    "import gdown\n",
    "import zipfile\n",
    "\n",
    "url = 'https://drive.google.com/drive/folders/1BiK9sYyTslcxQQoS3vZGF02hRg6OQpR4?usp=sharing'\n",
    "folder_id = url.split('/')[-1].split('?')[0]\n",
    "gdown.download_folder(f'https://drive.google.com/drive/folders/{folder_id}', quiet=False)\n",
    "\n",
    "\n",
    "source_dir = 'Task Arithmetic Datasets'\n",
    "target_dir = 'data'\n",
    "\n",
    "if not os.path.exists(target_dir):\n",
    "    os.makedirs(target_dir)\n",
    "\n",
    "for file_name in os.listdir(source_dir):\n",
    "    file_path = os.path.join(source_dir, file_name)\n",
    "    target_path = target_dir\n",
    "\n",
    "    with zipfile.ZipFile(file_path, 'r') as zip_ref:\n",
    "        zip_ref.extractall(target_path)\n",
    "        print(f'Unzipped {file_name} to {target_path}')"
   ]
  },
  {
   "cell_type": "code",
   "execution_count": null,
   "metadata": {
    "execution": {
     "iopub.execute_input": "2025-05-29T13:31:31.936885Z",
     "iopub.status.busy": "2025-05-29T13:31:31.936624Z",
     "iopub.status.idle": "2025-05-29T13:31:31.942947Z",
     "shell.execute_reply": "2025-05-29T13:31:31.942173Z",
     "shell.execute_reply.started": "2025-05-29T13:31:31.936862Z"
    },
    "trusted": true
   },
   "outputs": [],
   "source": [
    "# Run this cell to start the session\n",
    "%cd polito-task-arithmetic"
   ]
  },
  {
   "cell_type": "code",
   "execution_count": null,
   "metadata": {
    "execution": {
     "iopub.execute_input": "2025-05-29T13:31:31.944436Z",
     "iopub.status.busy": "2025-05-29T13:31:31.943805Z",
     "iopub.status.idle": "2025-05-29T13:32:57.292453Z",
     "shell.execute_reply": "2025-05-29T13:32:57.291497Z",
     "shell.execute_reply.started": "2025-05-29T13:31:31.944410Z"
    },
    "trusted": true
   },
   "outputs": [],
   "source": [
    "%pip install open-clip-torch"
   ]
  },
  {
   "cell_type": "code",
   "execution_count": null,
   "metadata": {
    "execution": {
     "iopub.execute_input": "2025-05-29T07:13:29.232824Z",
     "iopub.status.busy": "2025-05-29T07:13:29.232203Z",
     "iopub.status.idle": "2025-05-29T07:13:30.024607Z",
     "shell.execute_reply": "2025-05-29T07:13:30.023765Z",
     "shell.execute_reply.started": "2025-05-29T07:13:29.232791Z"
    },
    "trusted": true
   },
   "outputs": [],
   "source": [
    "# %rm out/*"
   ]
  },
  {
   "cell_type": "code",
   "execution_count": null,
   "metadata": {
    "_cell_guid": "0151de54-b1b1-4a5e-81fc-fee8b8c8a443",
    "_uuid": "f0971113-bc10-4691-8bbe-616608cffc18",
    "execution": {
     "iopub.execute_input": "2025-05-29T13:38:08.613841Z",
     "iopub.status.busy": "2025-05-29T13:38:08.613233Z",
     "iopub.status.idle": "2025-05-29T13:38:09.560697Z",
     "shell.execute_reply": "2025-05-29T13:38:09.559976Z",
     "shell.execute_reply.started": "2025-05-29T13:38:08.613794Z"
    },
    "trusted": true
   },
   "outputs": [],
   "source": [
    "!git pull"
   ]
  },
  {
   "cell_type": "code",
   "execution_count": null,
   "metadata": {
    "execution": {
     "execution_failed": "2025-05-29T16:14:16.334Z",
     "iopub.execute_input": "2025-05-29T13:38:21.791430Z",
     "iopub.status.busy": "2025-05-29T13:38:21.791129Z"
    },
    "trusted": true
   },
   "outputs": [],
   "source": [
    "!bash ./launch_scripts/base.sh"
   ]
  },
  {
   "cell_type": "code",
   "execution_count": null,
   "metadata": {},
   "outputs": [],
   "source": [
    "!bash ./launch_scripts/wd.sh"
   ]
  },
  {
   "cell_type": "code",
   "execution_count": null,
   "metadata": {},
   "outputs": [],
   "source": [
    "!bash ./launch_scripts/lr.sh"
   ]
  },
  {
   "cell_type": "code",
   "execution_count": null,
   "metadata": {},
   "outputs": [],
   "source": [
    "# Counts for undersampling\n",
    "from datasets.common import get_dataloader\n",
    "from datasets.registry import get_dataset\n",
    "from types import SimpleNamespace\n",
    "import torch\n",
    "\n",
    "\n",
    "def counts(datasets):\n",
    "    args = {\n",
    "        \"undersample\": True,\n",
    "        \"device\": \"cuda\" if torch.cuda.is_available() else \"cpu\",\n",
    "        \"batch_size\": 32,\n",
    "        \"data_location\": \"./data\",\n",
    "    }\n",
    "    args = SimpleNamespace(**args)\n",
    "    if isinstance(datasets, str):\n",
    "        datasets = [\n",
    "            datasets,\n",
    "        ]\n",
    "\n",
    "    for dataset_name in datasets:\n",
    "        dataset = get_dataset(\n",
    "            dataset_name + \"Val\",\n",
    "            preprocess=None,\n",
    "            location=args.data_location,\n",
    "            batch_size=args.batch_size,\n",
    "        )\n",
    "        print(f\"Dataset {dataset_name}\")\n",
    "        loader = get_dataloader(dataset, is_train=True, args=args)\n",
    "        print()\n",
    "\n",
    "\n",
    "counts([\"DTD\", \"EuroSAT\", \"GTSRB\", \"MNIST\", \"RESISC45\", \"SVHN\"])"
   ]
  },
  {
   "cell_type": "markdown",
   "metadata": {},
   "source": [
    "**DTD**\n",
    "\n",
    "- classes = 47\n",
    "- min_count = 101\n",
    "- orig_total = 5076\n",
    "- new_total = 4747\n",
    "\n",
    "**EuroSAT**\n",
    "\n",
    "- classes = 10\n",
    "- min_count = 1460\n",
    "- orig_total = 21600\n",
    "- new_total = 14600\n",
    "\n",
    "**GTRSB**\n",
    "\n",
    "- classes = 43\n",
    "- min_count = 132\n",
    "- orig_total = 23976\n",
    "- new_total = 5676\n",
    "\t\n",
    "**MNIST**\n",
    "\n",
    "- classes = 10\n",
    "- min_count = 4955\n",
    "- orig_total = 55000\n",
    "- new_total = 49550\n",
    "\t\n",
    "**RESISC45**\n",
    "\n",
    "- classes = 45\n",
    "- min_count = 350\n",
    "- orig_total = 17010\n",
    "- new_total = 15750\n",
    "\t\n",
    "**SVHN**\n",
    "\n",
    "- classes = 10\n",
    "- min_count = 4323\n",
    "- orig_total = 68257\n",
    "- new_total = 43230"
   ]
  }
 ],
 "metadata": {
  "kaggle": {
   "accelerator": "none",
   "dataSources": [],
   "isGpuEnabled": false,
   "isInternetEnabled": true,
   "language": "python",
   "sourceType": "notebook"
  },
  "kernelspec": {
   "display_name": "Python 3",
   "language": "python",
   "name": "python3"
  },
  "language_info": {
   "codemirror_mode": {
    "name": "ipython",
    "version": 3
   },
   "file_extension": ".py",
   "mimetype": "text/x-python",
   "name": "python",
   "nbconvert_exporter": "python",
   "pygments_lexer": "ipython3",
   "version": "3.11.11"
  }
 },
 "nbformat": 4,
 "nbformat_minor": 4
}
